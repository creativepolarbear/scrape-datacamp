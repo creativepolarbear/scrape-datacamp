{
    "cells": [
        {
            "cell_type": "markdown",
            "metadata": {},
            "source": [
                "# OpenAI Function Calling Tutorial\n",
                "\n",
                "## What is OpenAI Function Calling?\n",
                "\n",
                "The\n",
                "<a href=\"https://www.datacamp.com/cheat-sheet/the-open-ai-api-in-python\"\n",
                "target=\"_blank\" rel=\"noopener\">OpenAI API<\/a> is great at generating the\n",
                "response in a systematic way. You can manage your prompts, optimize the\n",
                "model output, and perform, build, and language applications with few\n",
                "lines of code.\n",
                "\n",
                "Even with all the good stuff, the OpenAI API was a nightmare for the\n",
                "developers and engineers. Why? They are accustomed to working with\n",
                "structured data types, and working with unstructured data like string is\n",
                "hard.\n",
                "\n",
                "To get consistent results, developers have to use regular expressions\n",
                "(RegEx) or <a\n",
                "href=\"https://www.datacamp.com/blog/what-is-prompt-engineering-the-future-of-ai-communication\"\n",
                "target=\"_blank\" rel=\"noopener\">prompt engineering<\/a> to extract the\n",
                "information from the text string.\n",
                "\n",
                "This is where OpenAI's\n",
                "<a href=\"https://platform.openai.com/docs/guides/gpt/function-calling\"\n",
                "target=\"_blank\" rel=\"noopener\">function calling<\/a> capability comes in.\n",
                "It allows GPT-3.5 and GPT-4 models to take user-defined functions as\n",
                "input and generate structure output. With this, you don't need to write\n",
                "RegEx or perform prompt engineering.\n",
                "\n",
                "In this tutorial, we will explore how OpenAI function calling can help\n",
                "resolve common developer problems caused by irregular model outputs.\n",
                "\n",
                "If you are just starting out with ChatGPT and the OpenAI API, consider\n",
                "taking a look at the <a\n",
                "href=\"https://www.datacamp.com/resources/webinars/ungated-getting-started-with-the-openai-api-and-chatgpt\"\n",
                "target=\"_blank\" rel=\"noopener\">Getting Started with the OpenAI API and\n",
                "ChatGPT<\/a> webinar. This resource can guide you through language and\n",
                "coding generation and help you perform basic tasks using Python API.\n",
                "\n",
                "## Using OpenAI Without Function Calling\n",
                "\n",
                "In this section, we will generate responses using the GPT-3.5-Turbo\n",
                "model without function calling to see if we get consistent output or\n",
                "not.\n",
                "\n",
                "Before installing the OpenAI Python API, you must obtain an API key and\n",
                "set it up on your local system. Follow the <a\n",
                "href=\"https://app.datacamp.com/learn/tutorials/using-gpt-models-via-the-openai-api-in-python\"\n",
                "target=\"_blank\" rel=\"noopener\">GPT-3.5 and GPT-4 via the OpenAI API in\n",
                "Python<\/a> tutorial to learn how to get the API key and set it up. The\n",
                "tutorial also includes examples of setting up environment variables in\n",
                "DataLab, DataCamp's AI-enabled data notebook.\n",
                "\n",
                "For further assistance, check out the code in <a\n",
                "href=\"https://wwww.datacamp.com/datalab/w/3e8b01b3-c46b-42c2-bd38-f3d95ade5d01/edit\"\n",
                "target=\"_blank\" rel=\"noopener\">OpenAI Function Calling workbook on\n",
                "DataLab<\/a>.\n",
                "\n",
                "Upgrade the OpenAI Python API to V1 using:\n"
            ]
        },
        {
            "cell_type": "code",
            "execution_count": null,
            "metadata": {},
            "outputs": [],
            "source": [
                "pip install --upgrade openai -q\n",
                "\n"
            ]
        },
        {
            "cell_type": "markdown",
            "metadata": {},
            "source": [
                "After that, initiate the OpenAI client using the API key.\n",
                "\n"
            ]
        },
        {
            "cell_type": "code",
            "execution_count": null,
            "metadata": {},
            "outputs": [],
            "source": [
                "import os\n",
                "from openai import OpenAI\n",
                "\n",
                "client = OpenAI(\n",
                "    api_key=os.environ['OPENAI_API_KEY'],\n",
                ")\n"
            ]
        },
        {
            "cell_type": "markdown",
            "metadata": {},
            "source": [
                "**Note**: OpenAI no longer offers free credits to new users, so you have\n",
                "to buy them to use the API.\n",
                "\n",
                "We will write a random student description. Either you can come up with\n",
                "your own text or use ChatGPT to generate one for you.\n"
            ]
        },
        {
            "cell_type": "code",
            "execution_count": null,
            "metadata": {},
            "outputs": [],
            "source": [
                "student_1_description = \"David Nguyen is a sophomore majoring in computer science at Stanford University. He is Asian American and has a 3.8 GPA. David is known for his programming skills and is an active member of the university's Robotics Club. He hopes to pursue a career in artificial intelligence after graduating.\" OpenAIWas this helpful? Yes No\n",
                "\n"
            ]
        },
        {
            "cell_type": "markdown",
            "metadata": {},
            "source": [
                "In the next part, we will write a prompt to extract student information\n",
                "from the text and return the output as a JSON object. We will extract\n",
                "the name, major, school, grades, and clubs in the student description.\n"
            ]
        },
        {
            "cell_type": "code",
            "execution_count": null,
            "metadata": {},
            "outputs": [],
            "source": [
                "# A simple prompt to extract information from \"student_description\" in a JSON format.\n",
                "prompt1 = f'''\n",
                "Please extract the following information from the given text and return it as a JSON object:\n",
                "\n",
                "name\n",
                "major\n",
                "school\n",
                "grades\n",
                "club\n",
                "\n",
                "This is the body of text to extract the information from:\n",
                "{student_1_description}\n",
                "''' OpenAIWas this helpful? Yes No\n"
            ]
        },
        {
            "cell_type": "markdown",
            "metadata": {},
            "source": [
                "Add the prompt to the OpenAI API chat completion module to generate the\n",
                "response.\n"
            ]
        },
        {
            "cell_type": "code",
            "execution_count": null,
            "metadata": {},
            "outputs": [],
            "source": [
                "# Generating response back from gpt-3.5-turbo\n",
                "openai_response = client.chat.completions.create(\n",
                "    model = 'gpt-3.5-turbo',\n",
                "    messages = [{'role': 'user', 'content': prompt_1}]\n",
                ")\n",
                "\n",
                "openai_response.choices[0].message.content\n"
            ]
        },
        {
            "cell_type": "markdown",
            "metadata": {},
            "source": [
                "The response is quite good. Let’s convert it into JSON to understand it\n",
                "better.\n"
            ]
        },
        {
            "cell_type": "code",
            "execution_count": null,
            "metadata": {},
            "outputs": [],
            "source": [
                "'{\\n  \"name\": \"David Nguyen\",\\n  \"major\": \"computer science\",\\n  \"school\": \"Stanford University\",\\n  \"grades\": \"3.8 GPA\",\\n  \"club\": \"Robotics Club\"\\n}' OpenAIWas this helpful? Yes No\n",
                "\n"
            ]
        },
        {
            "cell_type": "markdown",
            "metadata": {},
            "source": [
                "We will use the \\`json\\` library to convert the text into a JSON object.\n",
                "\n"
            ]
        },
        {
            "cell_type": "code",
            "execution_count": null,
            "metadata": {},
            "outputs": [],
            "source": [
                "import json\n",
                "\n",
                "# Loading the response as a JSON object\n",
                "json_response = json.loads(openai_response.choices[0].message.content)\n",
                "json_response\n"
            ]
        },
        {
            "cell_type": "markdown",
            "metadata": {},
            "source": [
                "The final result is pretty much perfect. So, why do we need Function\n",
                "Calling?\n"
            ]
        },
        {
            "cell_type": "code",
            "execution_count": null,
            "metadata": {},
            "outputs": [],
            "source": [
                "{'name': 'David Nguyen',\n",
                "    'major': 'computer science',\n",
                "    'school': 'Stanford University',\n",
                "    'grades': '3.8 GPA',\n",
                "    'club': 'Robotics Club'}\n"
            ]
        },
        {
            "cell_type": "markdown",
            "metadata": {},
            "source": [
                "Let’s try the same prompt, but using a different student description.\n",
                "\n"
            ]
        },
        {
            "cell_type": "code",
            "execution_count": null,
            "metadata": {},
            "outputs": [],
            "source": [
                "student_2_description=\"Ravi Patel is a sophomore majoring in computer science at the University of Michigan. He is South Asian Indian American and has a 3.7 GPA. Ravi is an active member of the university's Chess Club and the South Asian Student Association. He hopes to pursue a career in software engineering after graduating.\" OpenAIWas this helpful? Yes No\n",
                "\n"
            ]
        },
        {
            "cell_type": "markdown",
            "metadata": {},
            "source": [
                "We will just change the student description text in the prompt.\n",
                "\n"
            ]
        },
        {
            "cell_type": "code",
            "execution_count": null,
            "metadata": {},
            "outputs": [],
            "source": [
                "prompt2 = f'''\n",
                "Please extract the following information from the given text and return it as a JSON object:\n",
                "\n",
                "name\n",
                "major\n",
                "school\n",
                "grades\n",
                "club\n",
                "\n",
                "This is the body of text to extract the information from:\n",
                "{student_2_description}\n",
                "''' OpenAIWas this helpful? Yes No\n"
            ]
        },
        {
            "cell_type": "markdown",
            "metadata": {},
            "source": [
                "And, run the chat completion function using the second prompt.\n",
                "\n"
            ]
        },
        {
            "cell_type": "code",
            "execution_count": null,
            "metadata": {},
            "outputs": [],
            "source": [
                "# Generating response back from gpt-3.5-turbo\n",
                "openai_response = client.chat.completions.create(\n",
                "    model = 'gpt-3.5-turbo',\n",
                "    messages = [{'role': 'user', 'content': prompt_2}]\n",
                ")\n",
                "\n",
                "# Loading the response as a JSON object\n",
                "json_response = json.loads(openai_response.choices[0].message.content)\n",
                "json_response\n"
            ]
        },
        {
            "cell_type": "markdown",
            "metadata": {},
            "source": [
                "As you can see, it is not consistent. Instead of returning one club, it\n",
                "has returned the list of clubs joined by Ravi. It is also different from\n",
                "the first student.\n"
            ]
        },
        {
            "cell_type": "code",
            "execution_count": null,
            "metadata": {},
            "outputs": [],
            "source": [
                "{'name': 'Ravi Patel',\n",
                "    'major': 'computer science',\n",
                "    'school': 'University of Michigan',\n",
                "    'grades': '3.7 GPA',\n",
                "    'club': ['Chess Club', 'South Asian Student Association']}\n"
            ]
        },
        {
            "cell_type": "markdown",
            "metadata": {},
            "source": [
                "## OpenAI Function Calling Example\n",
                "\n",
                "To resolve this issue, we will now use a recently introduced feature\n",
                "called Function Calling. It is essential to create a custom function to\n",
                "add necessary information to a list of dictionaries so that the OpenAI\n",
                "API can understand its functionality.\n",
                "\n",
                "- **name**: write the Python function name that you have recently\n",
                "created.\n",
                "- **description**: the functionality of the function.\n",
                "- **parameters**: within the “properties”, we will write the name of\n",
                "the arguments, type, and description. It will help OpenAI API to\n",
                "identify the world that we are looking for.\n",
                "\n",
                "**Note**: Make sure you are following the correct pattern. Learn more\n",
                "about function calling by reading the official\n",
                "<a href=\"https://platform.openai.com/docs/guides/gpt/function-calling\"\n",
                "target=\"_blank\" rel=\"noopener\">documentation<\/a>.\n"
            ]
        },
        {
            "cell_type": "code",
            "execution_count": null,
            "metadata": {},
            "outputs": [],
            "source": [
                "student_custom_functions = [\n",
                "    {\n",
                "    'name': 'extract_student_info',\n",
                "    'description': 'Get the student information from the body of the input text',\n",
                "    'parameters': {\n",
                "    'type': 'object',\n",
                "    'properties': {\n",
                "    'name': {\n",
                "    'type': 'string',\n",
                "    'description': 'Name of the person'\n",
                "    },\n",
                "    'major': {\n",
                "    'type': 'string',\n",
                "    'description': 'Major subject.'\n",
                "    },\n",
                "    'school': {\n",
                "    'type': 'string',\n",
                "    'description': 'The university name.'\n",
                "    },\n",
                "    'grades': {\n",
                "    'type': 'integer',\n",
                "    'description': 'GPA of the student.'\n",
                "    },\n",
                "    'club': {\n",
                "    'type': 'string',\n",
                "    'description': 'School club for extracurricular activities. '\n",
                "    }\n",
                "                \n",
                "    }\n",
                "    }\n",
                "    }\n",
                "] OpenAIWas this helpful? Yes No\n"
            ]
        },
        {
            "cell_type": "markdown",
            "metadata": {},
            "source": [
                "Next, we will generate responses for two student descriptions using a\n",
                "custom function added to the \"functions\" argument. After that, we will\n",
                "convert the text response into a JSON object and print it.\n"
            ]
        },
        {
            "cell_type": "code",
            "execution_count": null,
            "metadata": {},
            "outputs": [],
            "source": [
                "student_description = [student_1_description,student_2_description]\n",
                "for i in student_description:\n",
                "    response = client.chat.completions.create(\n",
                "    model = 'gpt-3.5-turbo',\n",
                "    messages = [{'role': 'user', 'content': i}],\n",
                "    functions = student_custom_functions,\n",
                "    function_call = 'auto'\n",
                "    )\n",
                "\n",
                "    # Loading the response as a JSON object\n",
                "    json_response = json.loads(response.choices[0].message.function_call.arguments)\n",
                "    print(json_response)\n"
            ]
        },
        {
            "cell_type": "markdown",
            "metadata": {},
            "source": [
                "As we can see, we got uniform output. We even got grades in numeric\n",
                "instead of string. Consistent output is essential for creating bug-free\n",
                "AI applications.\n"
            ]
        },
        {
            "cell_type": "code",
            "execution_count": null,
            "metadata": {},
            "outputs": [],
            "source": [
                "{'name': 'David Nguyen', 'major': 'computer science', 'school': 'Stanford University', 'grades': 3.8, 'club': 'Robotics Club'} \n",
                "\n",
                "{'name': 'Ravi Patel', 'major': 'computer science', 'school': 'University of Michigan', 'grades': 3.7, 'club': 'Chess Club'}\n"
            ]
        },
        {
            "cell_type": "markdown",
            "metadata": {},
            "source": [
                "## Multiple Custom Functions\n",
                "\n",
                "You can add multiple custom functions to the chat completion function.\n",
                "In this section, we will see the magical capabilities of OpenAI API and\n",
                "how it automatically selects the correct function and returns the right\n",
                "arguments.\n",
                "\n",
                "In the Python list of the dictionary, we will add another function\n",
                "called “extract_school_info,” which will help us extract university\n",
                "information from the text.\n",
                "\n",
                "To achieve this, you have to add another dictionary of a function with\n",
                "name, description, and parameters.\n"
            ]
        },
        {
            "cell_type": "code",
            "execution_count": null,
            "metadata": {},
            "outputs": [],
            "source": [
                "custom_functions = [\n",
                "    {\n",
                "    'name': 'extract_student_info',\n",
                "    'description': 'Get the student information from the body of the input text',\n",
                "    'parameters': {\n",
                "    'type': 'object',\n",
                "    'properties': {\n",
                "    'name': {\n",
                "    'type': 'string',\n",
                "    'description': 'Name of the person'\n",
                "    },\n",
                "    'major': {\n",
                "    'type': 'string',\n",
                "    'description': 'Major subject.'\n",
                "    },\n",
                "    'school': {\n",
                "    'type': 'string',\n",
                "    'description': 'The university name.'\n",
                "    },\n",
                "    'grades': {\n",
                "    'type': 'integer',\n",
                "    'description': 'GPA of the student.'\n",
                "    },\n",
                "    'club': {\n",
                "    'type': 'string',\n",
                "    'description': 'School club for extracurricular activities. '\n",
                "    }\n",
                "                \n",
                "    }\n",
                "    }\n",
                "    },\n",
                "    {\n",
                "    'name': 'extract_school_info',\n",
                "    'description': 'Get the school information from the body of the input text',\n",
                "    'parameters': {\n",
                "    'type': 'object',\n",
                "    'properties': {\n",
                "    'name': {\n",
                "    'type': 'string',\n",
                "    'description': 'Name of the school.'\n",
                "    },\n",
                "    'ranking': {\n",
                "    'type': 'integer',\n",
                "    'description': 'QS world ranking of the school.'\n",
                "    },\n",
                "    'country': {\n",
                "    'type': 'string',\n",
                "    'description': 'Country of the school.'\n",
                "    },\n",
                "    'no_of_students': {\n",
                "    'type': 'integer',\n",
                "    'description': 'Number of students enrolled in the school.'\n",
                "    }\n",
                "    }\n",
                "    }\n",
                "    }\n",
                "]\n"
            ]
        },
        {
            "cell_type": "markdown",
            "metadata": {},
            "source": [
                "We will generate a “Stanford University” description using ChatGPT to\n",
                "test our function.\n"
            ]
        },
        {
            "cell_type": "code",
            "execution_count": null,
            "metadata": {},
            "outputs": [],
            "source": [
                "school_1_description = \"Stanford University is a private research university located in Stanford, California, United States. It was founded in 1885 by Leland Stanford and his wife, Jane Stanford, in memory of their only child, Leland Stanford Jr. The university is ranked #5 in the world by QS World University Rankings. It has over 17,000 students, including about 7,600 undergraduates and 9,500 graduates23. \"\n",
                "\n"
            ]
        },
        {
            "cell_type": "markdown",
            "metadata": {},
            "source": [
                "Create the list of student and school descriptions and pass it through\n",
                "the OpenAI chat completion function to generate the response. Make sure\n",
                "you have provided the updated custom function.\n"
            ]
        },
        {
            "cell_type": "code",
            "execution_count": null,
            "metadata": {},
            "outputs": [],
            "source": [
                "description = [student_1_description, school_1_description]\n",
                "for i in description:\n",
                "    response = client.chat.completions.create(\n",
                "    model = 'gpt-3.5-turbo',\n",
                "    messages = [{'role': 'user', 'content': i}],\n",
                "    functions = custom_functions,\n",
                "    function_call = 'auto'\n",
                "    )\n",
                "\n",
                "    # Loading the response as a JSON object\n",
                "    json_response = json.loads(response.choices[0].message.function_call.arguments)\n",
                "    print(json_response)\n"
            ]
        },
        {
            "cell_type": "markdown",
            "metadata": {},
            "source": [
                "The GPT-3.5-Turbo model has automatically selected the correct function\n",
                "for different description types. We get perfect JSON output for the\n",
                "student and the school.\n"
            ]
        },
        {
            "cell_type": "code",
            "execution_count": null,
            "metadata": {},
            "outputs": [],
            "source": [
                "{'name': 'David Nguyen', 'major': 'computer science', 'school': 'Stanford University', 'grades': 3.8, 'club': 'Robotics Club'} \n",
                "\n",
                "{'name': 'Stanford University', 'ranking': 5, 'country': 'United States', 'no_of_students': 17000}\n"
            ]
        },
        {
            "cell_type": "markdown",
            "metadata": {},
            "source": [
                "We can even look under the name that the repose is generated using the\n",
                "“extract_school_info” function.\n",
                "\n",
                "**<img\n",
                "src=\"https://res.cloudinary.com/dyd911kmh/image/upload/v1705686182/image_db3c0d4ad3.png\"\n",
                "style=\"display: block; margin-left: auto; margin-right: auto;\"\n",
                "loading=\"lazy\" width=\"624\" height=\"219\" />**\n",
                "\n",
                "## Applications of Function Calling\n",
                "\n",
                "In this section, we will build a stable text summarizer that will\n",
                "summarize the school and student information in a certain way.\n",
                "\n",
                "First, we will create two Python functions, `extract_student_info` and\n",
                "`extract_school_info,` that take the arguments from function calling and\n",
                "return a summarized string.\n"
            ]
        },
        {
            "cell_type": "code",
            "execution_count": null,
            "metadata": {},
            "outputs": [],
            "source": [
                "def extract_student_info(name, major, school, grades, club):\n",
                "    \n",
                "    \"\"\"Get the student information\"\"\"\n",
                "\n",
                "    return f\"{name} is majoring in {major} at {school}. He has {grades} GPA and he is an active member of the university's {club}.\"\n",
                "\n",
                "def extract_school_info(name, ranking, country, no_of_students):\n",
                "    \n",
                "    \"\"\"Get the school information\"\"\"\n",
                "\n",
                "    return f\"{name} is located in the {country}. The university is ranked #{ranking} in the world with {no_of_students} students.\"\n"
            ]
        },
        {
            "cell_type": "markdown",
            "metadata": {},
            "source": [
                "1. Create the Python list, which consists of student one description,\n",
                "random prompt, and school one description. The random prompt is\n",
                "added to validate the automatic function calling mechanic.\n",
                "2. We will generate the response using each text in the\n",
                "\\`descriptions\\` list.\n",
                "3. If a function call is used, we will get the name of the function\n",
                "and, based on it, apply the relevant arguments to the function using\n",
                "the response. Otherwise, return the normal response.\n",
                "4. Print the outputs of all three samples.\n"
            ]
        },
        {
            "cell_type": "code",
            "execution_count": null,
            "metadata": {},
            "outputs": [],
            "source": [
                "descriptions = [\n",
                "    student_1_description, \n",
                "    \"Who was a Abraham Lincoln?\",\n",
                "    school_1_description\n",
                "    ]\n",
                "\n",
                "for i, sample in enumerate(descriptions):\n",
                "    response = client.chat.completions.create(\n",
                "    model = 'gpt-3.5-turbo',\n",
                "    messages = [{'role': 'user', 'content': sample}],\n",
                "    functions = custom_functions,\n",
                "    function_call = 'auto'\n",
                "    )\n",
                "    \n",
                "    response_message = response.choices[0].message\n",
                "    \n",
                "    if dict(response_message).get('function_call'):\n",
                "        \n",
                "    # Which function call was invoked\n",
                "    function_called = response_message.function_call.name\n",
                "        \n",
                "    # Extracting the arguments\n",
                "    function_args  = json.loads(response_message.function_call.arguments)\n",
                "        \n",
                "    # Function names\n",
                "    available_functions = {\n",
                "    \"extract_school_info\": extract_school_info,\n",
                "    \"extract_student_info\": extract_student_info\n",
                "    }\n",
                "        \n",
                "    fuction_to_call = available_functions[function_called]\n",
                "    response_message = fuction_to_call(*list(function_args .values()))\n",
                "        \n",
                "    else:\n",
                "    response_message = response_message.content\n",
                "    \n",
                "    print(f\"\\nSample#{i+1}\\n\")\n",
                "    print(response_message)\n"
            ]
        },
        {
            "cell_type": "markdown",
            "metadata": {},
            "source": [
                "- **Sample#1**: The GPT model has selected “extract_student_info,” and\n",
                "we got a short summary about the student.\n",
                "- **Sample#2**: The GPT model has not selected any function and\n",
                "treated the prompt as a regular question, and as a result, we got\n",
                "the biography of Abraham Lincoln.\n",
                "- **Sample#3**: The GPT model has selected “extract_school_info,” and\n",
                "we got a short summary about Stanford University.\n"
            ]
        },
        {
            "cell_type": "code",
            "execution_count": null,
            "metadata": {},
            "outputs": [],
            "source": [
                "Sample#1\n",
                "\n",
                "David Nguyen is majoring in computer science at Stanford University. He has 3.8 GPA and he is an active member of the university's Robotics Club.\n",
                "\n",
                "Sample#2\n",
                "\n",
                "Abraham Lincoln was the 16th President of the United States. He served as president from March 1861 until his assassination in April 1865. Lincoln led the country through its greatest internal crisis, the American Civil War, and his Emancipation Proclamation declared slaves in Confederate territory to be free. He is known for his leadership, his commitment to preserving the Union, and his efforts to abolish slavery. Lincoln's presidency is widely regarded as one of the most transformative in American history.\n",
                "\n",
                "Sample#3\n",
                "\n",
                "Stanford University is located in the United States. The university is ranked #5 in the world with 17000 students.\n"
            ]
        },
        {
            "cell_type": "markdown",
            "metadata": {},
            "source": [
                "## Conclusion\n",
                "\n",
                "OpenAI's function calling opens up exciting new possibilities for\n",
                "developers building AI applications. By allowing models like GPT-3.5 and\n",
                "GPT-4 to generate structured JSON data through custom functions, it\n",
                "solves major pain points around inconsistent and unpredictable text\n",
                "outputs.\n",
                "\n",
                "Function calling can be used to access external web APIs, execute custom\n",
                "SQL queries, and develop stable AI applications. It can extract relevant\n",
                "information from text and provide consistent responses for API and SQL\n",
                "commands.\n",
                "\n",
                "In this tutorial, we learned about OpenAI's new feature, function\n",
                "calling. We also learned how to use it to generate consistent outputs,\n",
                "create multiple functions, and build a reliable text summarizer.\n",
                "\n",
                "If you want to learn more about the OpenAI API, consider taking the\n",
                "<a href=\"https://www.datacamp.com/courses/working-with-the-openai-api\"\n",
                "target=\"_blank\" rel=\"noopener\">Working with OpenAI API course<\/a> and\n",
                "using the\n",
                "<a href=\"https://www.datacamp.com/cheat-sheet/the-open-ai-api-in-python\"\n",
                "target=\"_blank\" rel=\"noopener\">OpenAI API in Python cheat sheet<\/a> to\n",
                "create your first AI-powered project.\n",
                "\n",
                "Topics\n",
                "\n",
                "Artificial Intelligence (AI)\n",
                "\n",
                "Python\n"
            ]
        }
    ],
    "metadata": {
        "anaconda-cloud": "",
        "kernelspec": {
            "display_name": "R",
            "langauge": "R",
            "name": "ir"
        },
        "language_info": {
            "codemirror_mode": "r",
            "file_extension": ".r",
            "mimetype": "text/x-r-source",
            "name": "R",
            "pygments_lexer": "r",
            "version": "3.4.1"
        }
    },
    "nbformat": 4,
    "nbformat_minor": 1
}
